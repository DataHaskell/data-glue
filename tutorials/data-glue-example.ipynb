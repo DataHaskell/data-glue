{
 "cells": [
  {
   "cell_type": "markdown",
   "metadata": {},
   "source": [
    "This notebook illustrates some functionnalities exposed in the `DataGlue` package. See also [iris_exploration](./iris_exploration.ipynb) for basics data science demonstrations."
   ]
  },
  {
   "cell_type": "markdown",
   "metadata": {},
   "source": [
    "## Read dataframe content"
   ]
  },
  {
   "cell_type": "markdown",
   "metadata": {},
   "source": [
    "Here, we read the [salaries dataset](../datasets/salaries.csv) as a `Frame`. The type of its row, `SalaryRow`, is dynamically inferred by the parser. "
   ]
  },
  {
   "cell_type": "code",
   "execution_count": 1,
   "metadata": {},
   "outputs": [],
   "source": [
    ":ext DataKinds FlexibleContexts QuasiQuotes OverloadedStrings TemplateHaskell TypeApplications TypeOperators ViewPatterns\n",
    "import DataGlue.Frames\n",
    "\n",
    "datasource = \"../datasets/salaries.csv\"\n",
    "\n",
    "tableTypes \"SalaryRow\" datasource\n",
    "\n",
    "loadRows :: IO (Frame SalaryRow)\n",
    "loadRows = inCoreAoS (readTable datasource)\n",
    "\n",
    "salaries <- loadRows"
   ]
  },
  {
   "cell_type": "markdown",
   "metadata": {},
   "source": [
    "Then, we can show the dataframe content, simply by calling it."
   ]
  },
  {
   "cell_type": "code",
   "execution_count": 2,
   "metadata": {},
   "outputs": [
    {
     "data": {
      "text/html": [
       "<style>/* Styles used for the Hoogle display in the pager */\n",
       ".hoogle-doc {\n",
       "display: block;\n",
       "padding-bottom: 1.3em;\n",
       "padding-left: 0.4em;\n",
       "}\n",
       ".hoogle-code {\n",
       "display: block;\n",
       "font-family: monospace;\n",
       "white-space: pre;\n",
       "}\n",
       ".hoogle-text {\n",
       "display: block;\n",
       "}\n",
       ".hoogle-name {\n",
       "color: green;\n",
       "font-weight: bold;\n",
       "}\n",
       ".hoogle-head {\n",
       "font-weight: bold;\n",
       "}\n",
       ".hoogle-sub {\n",
       "display: block;\n",
       "margin-left: 0.4em;\n",
       "}\n",
       ".hoogle-package {\n",
       "font-weight: bold;\n",
       "font-style: italic;\n",
       "}\n",
       ".hoogle-module {\n",
       "font-weight: bold;\n",
       "}\n",
       ".hoogle-class {\n",
       "font-weight: bold;\n",
       "}\n",
       ".get-type {\n",
       "color: green;\n",
       "font-weight: bold;\n",
       "font-family: monospace;\n",
       "display: block;\n",
       "white-space: pre-wrap;\n",
       "}\n",
       ".show-type {\n",
       "color: green;\n",
       "font-weight: bold;\n",
       "font-family: monospace;\n",
       "margin-left: 1em;\n",
       "}\n",
       ".mono {\n",
       "font-family: monospace;\n",
       "display: block;\n",
       "}\n",
       ".err-msg {\n",
       "color: red;\n",
       "font-style: italic;\n",
       "font-family: monospace;\n",
       "white-space: pre;\n",
       "display: block;\n",
       "}\n",
       "#unshowable {\n",
       "color: red;\n",
       "font-weight: bold;\n",
       "}\n",
       ".err-msg.in.collapse {\n",
       "padding-top: 0.7em;\n",
       "}\n",
       ".highlight-code {\n",
       "white-space: pre;\n",
       "font-family: monospace;\n",
       "}\n",
       ".suggestion-warning { \n",
       "font-weight: bold;\n",
       "color: rgb(200, 130, 0);\n",
       "}\n",
       ".suggestion-error { \n",
       "font-weight: bold;\n",
       "color: red;\n",
       "}\n",
       ".suggestion-name {\n",
       "font-weight: bold;\n",
       "}\n",
       "</style><table><tr><th>\"\"</th><th>rank</th><th>discipline</th><th>yrs.since.phd</th><th>yrs.service</th><th>sex</th><th>salary</th></tr><tr><td>1</td><td>\"Prof\"</td><td>\"B\"</td><td>19</td><td>18</td><td>\"Male\"</td><td>139750</td></tr><tr><td>2</td><td>\"Prof\"</td><td>\"B\"</td><td>20</td><td>16</td><td>\"Male\"</td><td>173200</td></tr><tr><td>3</td><td>\"AsstProf\"</td><td>\"B\"</td><td>4</td><td>3</td><td>\"Male\"</td><td>79750</td></tr><tr><td>4</td><td>\"Prof\"</td><td>\"B\"</td><td>45</td><td>39</td><td>\"Male\"</td><td>115000</td></tr><tr><td>5</td><td>\"Prof\"</td><td>\"B\"</td><td>40</td><td>41</td><td>\"Male\"</td><td>141500</td></tr><tr><td>6</td><td>\"AssocProf\"</td><td>\"B\"</td><td>6</td><td>6</td><td>\"Male\"</td><td>97000</td></tr><tr><td>7</td><td>\"Prof\"</td><td>\"B\"</td><td>30</td><td>23</td><td>\"Male\"</td><td>175000</td></tr><tr><td>8</td><td>\"Prof\"</td><td>\"B\"</td><td>45</td><td>45</td><td>\"Male\"</td><td>147765</td></tr><tr><td>9</td><td>\"Prof\"</td><td>\"B\"</td><td>21</td><td>20</td><td>\"Male\"</td><td>119250</td></tr><tr><td>10</td><td>\"Prof\"</td><td>\"B\"</td><td>18</td><td>18</td><td>\"Female\"</td><td>129000</td></tr><tr><td style='text-align:center' colspan=7>. . .</td></tr><tr><td>388</td><td>\"Prof\"</td><td>\"A\"</td><td>29</td><td>15</td><td>\"Male\"</td><td>109305</td></tr><tr><td>389</td><td>\"Prof\"</td><td>\"A\"</td><td>38</td><td>36</td><td>\"Male\"</td><td>119450</td></tr><tr><td>390</td><td>\"Prof\"</td><td>\"A\"</td><td>33</td><td>18</td><td>\"Male\"</td><td>186023</td></tr><tr><td>391</td><td>\"Prof\"</td><td>\"A\"</td><td>40</td><td>19</td><td>\"Male\"</td><td>166605</td></tr><tr><td>392</td><td>\"Prof\"</td><td>\"A\"</td><td>30</td><td>19</td><td>\"Male\"</td><td>151292</td></tr><tr><td>393</td><td>\"Prof\"</td><td>\"A\"</td><td>33</td><td>30</td><td>\"Male\"</td><td>103106</td></tr><tr><td>394</td><td>\"Prof\"</td><td>\"A\"</td><td>31</td><td>19</td><td>\"Male\"</td><td>150564</td></tr><tr><td>395</td><td>\"Prof\"</td><td>\"A\"</td><td>42</td><td>25</td><td>\"Male\"</td><td>101738</td></tr><tr><td>396</td><td>\"Prof\"</td><td>\"A\"</td><td>25</td><td>15</td><td>\"Male\"</td><td>95329</td></tr><tr><td>397</td><td>\"AsstProf\"</td><td>\"A\"</td><td>8</td><td>4</td><td>\"Male\"</td><td>81035</td></tr></table>"
      ]
     },
     "metadata": {},
     "output_type": "display_data"
    }
   ],
   "source": [
    "-- Show dataframe content.\n",
    "salaries"
   ]
  },
  {
   "cell_type": "markdown",
   "metadata": {},
   "source": [
    "As the dataframe has many rows, only its first and last rows are shown. We get the total number of rows using the function `length`."
   ]
  },
  {
   "cell_type": "code",
   "execution_count": 3,
   "metadata": {},
   "outputs": [
    {
     "data": {
      "text/plain": [
       "397\n",
       "Message: PublishDisplayData {header = MessageHeader {identifiers = [\"7ea497a4-d403-4dd8-b6a3-b014b7535bfb\"], parentHeader = Just (MessageHeader {identifiers = [\"7ea497a4-d403-4dd8-b6a3-b014b7535bfb\"], parentHeader = Nothing, metadata = fromList [], messageId = UUID {uuidToString = \"76008c11-c017-4933-8a1d-ea9461897b5b\"}, sessionId = UUID {uuidToString = \"7ea497a4-d403-4dd8-b6a3-b014b7535bfb\"}, username = \"\", msgType = ExecuteRequestMessage}), metadata = fromList [], messageId = UUID {uuidToString = \"d5d733bf-683f-4420-abd9-cc951079da12\"}, sessionId = UUID {uuidToString = \"7ea497a4-d403-4dd8-b6a3-b014b7535bfb\"}, username = \"\", msgType = DisplayDataMessage}, displayData = [DisplayData]}\n",
       "Sent: \"{\\\"data\\\":{\\\"text/plain\\\":\\\"397\\\"},\\\"metadata\\\":{}}\""
      ]
     },
     "metadata": {},
     "output_type": "display_data"
    }
   ],
   "source": [
    "length salaries"
   ]
  },
  {
   "cell_type": "markdown",
   "metadata": {},
   "source": [
    "It is also usefull to get the column names and types:"
   ]
  },
  {
   "cell_type": "code",
   "execution_count": 4,
   "metadata": {},
   "outputs": [
    {
     "data": {
      "text/plain": [
       "397x7 dataframe.\n",
       "  column \"\"\"\": Int\n",
       "  column \"rank\": Text\n",
       "  column \"discipline\": Text\n",
       "  column \"yrs.since.phd\": Int\n",
       "  column \"yrs.service\": Int\n",
       "  column \"sex\": Text\n",
       "  column \"salary\": Int"
      ]
     },
     "metadata": {},
     "output_type": "display_data"
    }
   ],
   "source": [
    "describe salaries"
   ]
  },
  {
   "cell_type": "markdown",
   "metadata": {},
   "source": [
    "## Read dataframe content (without header)"
   ]
  },
  {
   "cell_type": "markdown",
   "metadata": {},
   "source": [
    "Unlike the previous example, the [iris dataset](../datasets/iris.csv) has no headers. So, we define them here manually, then proceed to the parsing."
   ]
  },
  {
   "cell_type": "code",
   "execution_count": 5,
   "metadata": {},
   "outputs": [
    {
     "data": {
      "text/html": [
       "<style>/* Styles used for the Hoogle display in the pager */\n",
       ".hoogle-doc {\n",
       "display: block;\n",
       "padding-bottom: 1.3em;\n",
       "padding-left: 0.4em;\n",
       "}\n",
       ".hoogle-code {\n",
       "display: block;\n",
       "font-family: monospace;\n",
       "white-space: pre;\n",
       "}\n",
       ".hoogle-text {\n",
       "display: block;\n",
       "}\n",
       ".hoogle-name {\n",
       "color: green;\n",
       "font-weight: bold;\n",
       "}\n",
       ".hoogle-head {\n",
       "font-weight: bold;\n",
       "}\n",
       ".hoogle-sub {\n",
       "display: block;\n",
       "margin-left: 0.4em;\n",
       "}\n",
       ".hoogle-package {\n",
       "font-weight: bold;\n",
       "font-style: italic;\n",
       "}\n",
       ".hoogle-module {\n",
       "font-weight: bold;\n",
       "}\n",
       ".hoogle-class {\n",
       "font-weight: bold;\n",
       "}\n",
       ".get-type {\n",
       "color: green;\n",
       "font-weight: bold;\n",
       "font-family: monospace;\n",
       "display: block;\n",
       "white-space: pre-wrap;\n",
       "}\n",
       ".show-type {\n",
       "color: green;\n",
       "font-weight: bold;\n",
       "font-family: monospace;\n",
       "margin-left: 1em;\n",
       "}\n",
       ".mono {\n",
       "font-family: monospace;\n",
       "display: block;\n",
       "}\n",
       ".err-msg {\n",
       "color: red;\n",
       "font-style: italic;\n",
       "font-family: monospace;\n",
       "white-space: pre;\n",
       "display: block;\n",
       "}\n",
       "#unshowable {\n",
       "color: red;\n",
       "font-weight: bold;\n",
       "}\n",
       ".err-msg.in.collapse {\n",
       "padding-top: 0.7em;\n",
       "}\n",
       ".highlight-code {\n",
       "white-space: pre;\n",
       "font-family: monospace;\n",
       "}\n",
       ".suggestion-warning { \n",
       "font-weight: bold;\n",
       "color: rgb(200, 130, 0);\n",
       "}\n",
       ".suggestion-error { \n",
       "font-weight: bold;\n",
       "color: red;\n",
       "}\n",
       ".suggestion-name {\n",
       "font-weight: bold;\n",
       "}\n",
       "</style><table><tr><th>Petal Length</th><th>Petal Width</th><th>Sepal Length</th><th>Sepal Width</th><th>Iris Class</th></tr><tr><td>4.9</td><td>3.0</td><td>1.4</td><td>0.2</td><td>\"Iris-setosa\"</td></tr><tr><td>4.7</td><td>3.2</td><td>1.3</td><td>0.2</td><td>\"Iris-setosa\"</td></tr><tr><td>4.6</td><td>3.1</td><td>1.5</td><td>0.2</td><td>\"Iris-setosa\"</td></tr><tr><td>5.0</td><td>3.6</td><td>1.4</td><td>0.2</td><td>\"Iris-setosa\"</td></tr><tr><td>5.4</td><td>3.9</td><td>1.7</td><td>0.4</td><td>\"Iris-setosa\"</td></tr><tr><td>4.6</td><td>3.4</td><td>1.4</td><td>0.3</td><td>\"Iris-setosa\"</td></tr><tr><td>5.0</td><td>3.4</td><td>1.5</td><td>0.2</td><td>\"Iris-setosa\"</td></tr><tr><td>4.4</td><td>2.9</td><td>1.4</td><td>0.2</td><td>\"Iris-setosa\"</td></tr><tr><td>4.9</td><td>3.1</td><td>1.5</td><td>0.1</td><td>\"Iris-setosa\"</td></tr><tr><td>5.4</td><td>3.7</td><td>1.5</td><td>0.2</td><td>\"Iris-setosa\"</td></tr><tr><td style='text-align:center' colspan=5>. . .</td></tr><tr><td>6.7</td><td>3.1</td><td>5.6</td><td>2.4</td><td>\"Iris-virginica\"</td></tr><tr><td>6.9</td><td>3.1</td><td>5.1</td><td>2.3</td><td>\"Iris-virginica\"</td></tr><tr><td>5.8</td><td>2.7</td><td>5.1</td><td>1.9</td><td>\"Iris-virginica\"</td></tr><tr><td>6.8</td><td>3.2</td><td>5.9</td><td>2.3</td><td>\"Iris-virginica\"</td></tr><tr><td>6.7</td><td>3.3</td><td>5.7</td><td>2.5</td><td>\"Iris-virginica\"</td></tr><tr><td>6.7</td><td>3.0</td><td>5.2</td><td>2.3</td><td>\"Iris-virginica\"</td></tr><tr><td>6.3</td><td>2.5</td><td>5.0</td><td>1.9</td><td>\"Iris-virginica\"</td></tr><tr><td>6.5</td><td>3.0</td><td>5.2</td><td>2.0</td><td>\"Iris-virginica\"</td></tr><tr><td>6.2</td><td>3.4</td><td>5.4</td><td>2.3</td><td>\"Iris-virginica\"</td></tr><tr><td>5.9</td><td>3.0</td><td>5.1</td><td>1.8</td><td>\"Iris-virginica\"</td></tr></table>"
      ]
     },
     "metadata": {},
     "output_type": "display_data"
    }
   ],
   "source": [
    "import Frames.CSV (rowGen, columnNames, tablePrefix, rowTypeName)\n",
    "\n",
    "-- Since the used dataset as no header, let's define the column names.\n",
    "datasource = \"../datasets/iris.csv\"\n",
    "tableTypes' (rowGen datasource)\n",
    "            { rowTypeName = \"IrisRow\"\n",
    "            , columnNames = [ \"Petal Length\", \"Petal Width\", \"Sepal Length\" , \"Sepal Width\", \"Iris Class\" ]}\n",
    "\n",
    "loadRows :: IO (Frame IrisRow)\n",
    "loadRows = inCoreAoS (readTable datasource)\n",
    "\n",
    "iris <- loadRows\n",
    "\n",
    "-- Show dataframe content.\n",
    "iris"
   ]
  },
  {
   "cell_type": "markdown",
   "metadata": {},
   "source": [
    "## Print records"
   ]
  },
  {
   "cell_type": "markdown",
   "metadata": {},
   "source": [
    "Some functions are exposed to read partial content of a dataframe.\n",
    "\n",
    "Read one line:"
   ]
  },
  {
   "cell_type": "code",
   "execution_count": 6,
   "metadata": {},
   "outputs": [
    {
     "data": {
      "text/html": [
       "<style>/* Styles used for the Hoogle display in the pager */\n",
       ".hoogle-doc {\n",
       "display: block;\n",
       "padding-bottom: 1.3em;\n",
       "padding-left: 0.4em;\n",
       "}\n",
       ".hoogle-code {\n",
       "display: block;\n",
       "font-family: monospace;\n",
       "white-space: pre;\n",
       "}\n",
       ".hoogle-text {\n",
       "display: block;\n",
       "}\n",
       ".hoogle-name {\n",
       "color: green;\n",
       "font-weight: bold;\n",
       "}\n",
       ".hoogle-head {\n",
       "font-weight: bold;\n",
       "}\n",
       ".hoogle-sub {\n",
       "display: block;\n",
       "margin-left: 0.4em;\n",
       "}\n",
       ".hoogle-package {\n",
       "font-weight: bold;\n",
       "font-style: italic;\n",
       "}\n",
       ".hoogle-module {\n",
       "font-weight: bold;\n",
       "}\n",
       ".hoogle-class {\n",
       "font-weight: bold;\n",
       "}\n",
       ".get-type {\n",
       "color: green;\n",
       "font-weight: bold;\n",
       "font-family: monospace;\n",
       "display: block;\n",
       "white-space: pre-wrap;\n",
       "}\n",
       ".show-type {\n",
       "color: green;\n",
       "font-weight: bold;\n",
       "font-family: monospace;\n",
       "margin-left: 1em;\n",
       "}\n",
       ".mono {\n",
       "font-family: monospace;\n",
       "display: block;\n",
       "}\n",
       ".err-msg {\n",
       "color: red;\n",
       "font-style: italic;\n",
       "font-family: monospace;\n",
       "white-space: pre;\n",
       "display: block;\n",
       "}\n",
       "#unshowable {\n",
       "color: red;\n",
       "font-weight: bold;\n",
       "}\n",
       ".err-msg.in.collapse {\n",
       "padding-top: 0.7em;\n",
       "}\n",
       ".highlight-code {\n",
       "white-space: pre;\n",
       "font-family: monospace;\n",
       "}\n",
       ".suggestion-warning { \n",
       "font-weight: bold;\n",
       "color: rgb(200, 130, 0);\n",
       "}\n",
       ".suggestion-error { \n",
       "font-weight: bold;\n",
       "color: red;\n",
       "}\n",
       ".suggestion-name {\n",
       "font-weight: bold;\n",
       "}\n",
       "</style><table><tr><th>\"\"</th><th>rank</th><th>discipline</th><th>yrs.since.phd</th><th>yrs.service</th><th>sex</th><th>salary</th></tr><tr><td>6</td><td>\"AssocProf\"</td><td>\"B\"</td><td>6</td><td>6</td><td>\"Male\"</td><td>97000</td></tr></table>"
      ]
     },
     "metadata": {},
     "output_type": "display_data"
    }
   ],
   "source": [
    "frameRow salaries 5"
   ]
  },
  {
   "cell_type": "markdown",
   "metadata": {},
   "source": [
    "Show the 5th first lines:"
   ]
  },
  {
   "cell_type": "code",
   "execution_count": 7,
   "metadata": {},
   "outputs": [
    {
     "data": {
      "text/html": [
       "<style>/* Styles used for the Hoogle display in the pager */\n",
       ".hoogle-doc {\n",
       "display: block;\n",
       "padding-bottom: 1.3em;\n",
       "padding-left: 0.4em;\n",
       "}\n",
       ".hoogle-code {\n",
       "display: block;\n",
       "font-family: monospace;\n",
       "white-space: pre;\n",
       "}\n",
       ".hoogle-text {\n",
       "display: block;\n",
       "}\n",
       ".hoogle-name {\n",
       "color: green;\n",
       "font-weight: bold;\n",
       "}\n",
       ".hoogle-head {\n",
       "font-weight: bold;\n",
       "}\n",
       ".hoogle-sub {\n",
       "display: block;\n",
       "margin-left: 0.4em;\n",
       "}\n",
       ".hoogle-package {\n",
       "font-weight: bold;\n",
       "font-style: italic;\n",
       "}\n",
       ".hoogle-module {\n",
       "font-weight: bold;\n",
       "}\n",
       ".hoogle-class {\n",
       "font-weight: bold;\n",
       "}\n",
       ".get-type {\n",
       "color: green;\n",
       "font-weight: bold;\n",
       "font-family: monospace;\n",
       "display: block;\n",
       "white-space: pre-wrap;\n",
       "}\n",
       ".show-type {\n",
       "color: green;\n",
       "font-weight: bold;\n",
       "font-family: monospace;\n",
       "margin-left: 1em;\n",
       "}\n",
       ".mono {\n",
       "font-family: monospace;\n",
       "display: block;\n",
       "}\n",
       ".err-msg {\n",
       "color: red;\n",
       "font-style: italic;\n",
       "font-family: monospace;\n",
       "white-space: pre;\n",
       "display: block;\n",
       "}\n",
       "#unshowable {\n",
       "color: red;\n",
       "font-weight: bold;\n",
       "}\n",
       ".err-msg.in.collapse {\n",
       "padding-top: 0.7em;\n",
       "}\n",
       ".highlight-code {\n",
       "white-space: pre;\n",
       "font-family: monospace;\n",
       "}\n",
       ".suggestion-warning { \n",
       "font-weight: bold;\n",
       "color: rgb(200, 130, 0);\n",
       "}\n",
       ".suggestion-error { \n",
       "font-weight: bold;\n",
       "color: red;\n",
       "}\n",
       ".suggestion-name {\n",
       "font-weight: bold;\n",
       "}\n",
       "</style><table><tr><th>\"\"</th><th>rank</th><th>discipline</th><th>yrs.since.phd</th><th>yrs.service</th><th>sex</th><th>salary</th></tr><tr><td>1</td><td>\"Prof\"</td><td>\"B\"</td><td>19</td><td>18</td><td>\"Male\"</td><td>139750</td></tr><tr><td>2</td><td>\"Prof\"</td><td>\"B\"</td><td>20</td><td>16</td><td>\"Male\"</td><td>173200</td></tr><tr><td>3</td><td>\"AsstProf\"</td><td>\"B\"</td><td>4</td><td>3</td><td>\"Male\"</td><td>79750</td></tr><tr><td>4</td><td>\"Prof\"</td><td>\"B\"</td><td>45</td><td>39</td><td>\"Male\"</td><td>115000</td></tr><tr><td>5</td><td>\"Prof\"</td><td>\"B\"</td><td>40</td><td>41</td><td>\"Male\"</td><td>141500</td></tr></table>"
      ]
     },
     "metadata": {},
     "output_type": "display_data"
    }
   ],
   "source": [
    "takeFrameRow 5 salaries"
   ]
  },
  {
   "cell_type": "markdown",
   "metadata": {},
   "source": [
    "Or the 5th last, by removing all the rows but 5, from the begining:"
   ]
  },
  {
   "cell_type": "code",
   "execution_count": 8,
   "metadata": {},
   "outputs": [
    {
     "data": {
      "text/html": [
       "<style>/* Styles used for the Hoogle display in the pager */\n",
       ".hoogle-doc {\n",
       "display: block;\n",
       "padding-bottom: 1.3em;\n",
       "padding-left: 0.4em;\n",
       "}\n",
       ".hoogle-code {\n",
       "display: block;\n",
       "font-family: monospace;\n",
       "white-space: pre;\n",
       "}\n",
       ".hoogle-text {\n",
       "display: block;\n",
       "}\n",
       ".hoogle-name {\n",
       "color: green;\n",
       "font-weight: bold;\n",
       "}\n",
       ".hoogle-head {\n",
       "font-weight: bold;\n",
       "}\n",
       ".hoogle-sub {\n",
       "display: block;\n",
       "margin-left: 0.4em;\n",
       "}\n",
       ".hoogle-package {\n",
       "font-weight: bold;\n",
       "font-style: italic;\n",
       "}\n",
       ".hoogle-module {\n",
       "font-weight: bold;\n",
       "}\n",
       ".hoogle-class {\n",
       "font-weight: bold;\n",
       "}\n",
       ".get-type {\n",
       "color: green;\n",
       "font-weight: bold;\n",
       "font-family: monospace;\n",
       "display: block;\n",
       "white-space: pre-wrap;\n",
       "}\n",
       ".show-type {\n",
       "color: green;\n",
       "font-weight: bold;\n",
       "font-family: monospace;\n",
       "margin-left: 1em;\n",
       "}\n",
       ".mono {\n",
       "font-family: monospace;\n",
       "display: block;\n",
       "}\n",
       ".err-msg {\n",
       "color: red;\n",
       "font-style: italic;\n",
       "font-family: monospace;\n",
       "white-space: pre;\n",
       "display: block;\n",
       "}\n",
       "#unshowable {\n",
       "color: red;\n",
       "font-weight: bold;\n",
       "}\n",
       ".err-msg.in.collapse {\n",
       "padding-top: 0.7em;\n",
       "}\n",
       ".highlight-code {\n",
       "white-space: pre;\n",
       "font-family: monospace;\n",
       "}\n",
       ".suggestion-warning { \n",
       "font-weight: bold;\n",
       "color: rgb(200, 130, 0);\n",
       "}\n",
       ".suggestion-error { \n",
       "font-weight: bold;\n",
       "color: red;\n",
       "}\n",
       ".suggestion-name {\n",
       "font-weight: bold;\n",
       "}\n",
       "</style><table><tr><th>\"\"</th><th>rank</th><th>discipline</th><th>yrs.since.phd</th><th>yrs.service</th><th>sex</th><th>salary</th></tr><tr><td>393</td><td>\"Prof\"</td><td>\"A\"</td><td>33</td><td>30</td><td>\"Male\"</td><td>103106</td></tr><tr><td>394</td><td>\"Prof\"</td><td>\"A\"</td><td>31</td><td>19</td><td>\"Male\"</td><td>150564</td></tr><tr><td>395</td><td>\"Prof\"</td><td>\"A\"</td><td>42</td><td>25</td><td>\"Male\"</td><td>101738</td></tr><tr><td>396</td><td>\"Prof\"</td><td>\"A\"</td><td>25</td><td>15</td><td>\"Male\"</td><td>95329</td></tr><tr><td>397</td><td>\"AsstProf\"</td><td>\"A\"</td><td>8</td><td>4</td><td>\"Male\"</td><td>81035</td></tr></table>"
      ]
     },
     "metadata": {},
     "output_type": "display_data"
    }
   ],
   "source": [
    "dropFrameRow (length salaries - 5) salaries"
   ]
  },
  {
   "cell_type": "markdown",
   "metadata": {},
   "source": [
    "Using `Proxy`, we can also make a selection, to get only the features we want to explore:"
   ]
  },
  {
   "cell_type": "code",
   "execution_count": 9,
   "metadata": {},
   "outputs": [
    {
     "data": {
      "text/html": [
       "<style>/* Styles used for the Hoogle display in the pager */\n",
       ".hoogle-doc {\n",
       "display: block;\n",
       "padding-bottom: 1.3em;\n",
       "padding-left: 0.4em;\n",
       "}\n",
       ".hoogle-code {\n",
       "display: block;\n",
       "font-family: monospace;\n",
       "white-space: pre;\n",
       "}\n",
       ".hoogle-text {\n",
       "display: block;\n",
       "}\n",
       ".hoogle-name {\n",
       "color: green;\n",
       "font-weight: bold;\n",
       "}\n",
       ".hoogle-head {\n",
       "font-weight: bold;\n",
       "}\n",
       ".hoogle-sub {\n",
       "display: block;\n",
       "margin-left: 0.4em;\n",
       "}\n",
       ".hoogle-package {\n",
       "font-weight: bold;\n",
       "font-style: italic;\n",
       "}\n",
       ".hoogle-module {\n",
       "font-weight: bold;\n",
       "}\n",
       ".hoogle-class {\n",
       "font-weight: bold;\n",
       "}\n",
       ".get-type {\n",
       "color: green;\n",
       "font-weight: bold;\n",
       "font-family: monospace;\n",
       "display: block;\n",
       "white-space: pre-wrap;\n",
       "}\n",
       ".show-type {\n",
       "color: green;\n",
       "font-weight: bold;\n",
       "font-family: monospace;\n",
       "margin-left: 1em;\n",
       "}\n",
       ".mono {\n",
       "font-family: monospace;\n",
       "display: block;\n",
       "}\n",
       ".err-msg {\n",
       "color: red;\n",
       "font-style: italic;\n",
       "font-family: monospace;\n",
       "white-space: pre;\n",
       "display: block;\n",
       "}\n",
       "#unshowable {\n",
       "color: red;\n",
       "font-weight: bold;\n",
       "}\n",
       ".err-msg.in.collapse {\n",
       "padding-top: 0.7em;\n",
       "}\n",
       ".highlight-code {\n",
       "white-space: pre;\n",
       "font-family: monospace;\n",
       "}\n",
       ".suggestion-warning { \n",
       "font-weight: bold;\n",
       "color: rgb(200, 130, 0);\n",
       "}\n",
       ".suggestion-error { \n",
       "font-weight: bold;\n",
       "color: red;\n",
       "}\n",
       ".suggestion-name {\n",
       "font-weight: bold;\n",
       "}\n",
       "</style><table><tr><th>yrs.since.phd</th><th>salary</th></tr><tr><td>19</td><td>139750</td></tr><tr><td>20</td><td>173200</td></tr><tr><td>4</td><td>79750</td></tr><tr><td>45</td><td>115000</td></tr><tr><td>40</td><td>141500</td></tr><tr><td>6</td><td>97000</td></tr><tr><td>30</td><td>175000</td></tr><tr><td>45</td><td>147765</td></tr><tr><td>21</td><td>119250</td></tr><tr><td>18</td><td>129000</td></tr><tr><td style='text-align:center' colspan=2>. . .</td></tr><tr><td>29</td><td>109305</td></tr><tr><td>38</td><td>119450</td></tr><tr><td>33</td><td>186023</td></tr><tr><td>40</td><td>166605</td></tr><tr><td>30</td><td>151292</td></tr><tr><td>33</td><td>103106</td></tr><tr><td>31</td><td>150564</td></tr><tr><td>42</td><td>101738</td></tr><tr><td>25</td><td>95329</td></tr><tr><td>8</td><td>81035</td></tr></table>"
      ]
     },
     "metadata": {},
     "output_type": "display_data"
    }
   ],
   "source": [
    "import Data.Proxy\n",
    "select @'[YrsSincePhd, Salary] Proxy <$> salaries"
   ]
  },
  {
   "cell_type": "markdown",
   "metadata": {},
   "source": [
    "Using `Lens`, it is also simple to get one feature content:"
   ]
  },
  {
   "cell_type": "code",
   "execution_count": 10,
   "metadata": {},
   "outputs": [
    {
     "data": {
      "text/html": [
       "<style>/* Styles used for the Hoogle display in the pager */\n",
       ".hoogle-doc {\n",
       "display: block;\n",
       "padding-bottom: 1.3em;\n",
       "padding-left: 0.4em;\n",
       "}\n",
       ".hoogle-code {\n",
       "display: block;\n",
       "font-family: monospace;\n",
       "white-space: pre;\n",
       "}\n",
       ".hoogle-text {\n",
       "display: block;\n",
       "}\n",
       ".hoogle-name {\n",
       "color: green;\n",
       "font-weight: bold;\n",
       "}\n",
       ".hoogle-head {\n",
       "font-weight: bold;\n",
       "}\n",
       ".hoogle-sub {\n",
       "display: block;\n",
       "margin-left: 0.4em;\n",
       "}\n",
       ".hoogle-package {\n",
       "font-weight: bold;\n",
       "font-style: italic;\n",
       "}\n",
       ".hoogle-module {\n",
       "font-weight: bold;\n",
       "}\n",
       ".hoogle-class {\n",
       "font-weight: bold;\n",
       "}\n",
       ".get-type {\n",
       "color: green;\n",
       "font-weight: bold;\n",
       "font-family: monospace;\n",
       "display: block;\n",
       "white-space: pre-wrap;\n",
       "}\n",
       ".show-type {\n",
       "color: green;\n",
       "font-weight: bold;\n",
       "font-family: monospace;\n",
       "margin-left: 1em;\n",
       "}\n",
       ".mono {\n",
       "font-family: monospace;\n",
       "display: block;\n",
       "}\n",
       ".err-msg {\n",
       "color: red;\n",
       "font-style: italic;\n",
       "font-family: monospace;\n",
       "white-space: pre;\n",
       "display: block;\n",
       "}\n",
       "#unshowable {\n",
       "color: red;\n",
       "font-weight: bold;\n",
       "}\n",
       ".err-msg.in.collapse {\n",
       "padding-top: 0.7em;\n",
       "}\n",
       ".highlight-code {\n",
       "white-space: pre;\n",
       "font-family: monospace;\n",
       "}\n",
       ".suggestion-warning { \n",
       "font-weight: bold;\n",
       "color: rgb(200, 130, 0);\n",
       "}\n",
       ".suggestion-error { \n",
       "font-weight: bold;\n",
       "color: red;\n",
       "}\n",
       ".suggestion-name {\n",
       "font-weight: bold;\n",
       "}\n",
       "</style><table><tr><td>139750</td></tr><tr><td>173200</td></tr><tr><td>79750</td></tr><tr><td>115000</td></tr><tr><td>141500</td></tr><tr><td>97000</td></tr><tr><td>175000</td></tr><tr><td>147765</td></tr><tr><td>119250</td></tr><tr><td>129000</td></tr><tr><td style='text-align:center' colspan=1>. . .</td></tr><tr><td>109305</td></tr><tr><td>119450</td></tr><tr><td>186023</td></tr><tr><td>166605</td></tr><tr><td>151292</td></tr><tr><td>103106</td></tr><tr><td>150564</td></tr><tr><td>101738</td></tr><tr><td>95329</td></tr><tr><td>81035</td></tr></table>"
      ]
     },
     "metadata": {},
     "output_type": "display_data"
    }
   ],
   "source": [
    "import Control.Lens\n",
    "view salary <$> salaries"
   ]
  },
  {
   "cell_type": "markdown",
   "metadata": {},
   "source": [
    "## Basic operations based on criteria"
   ]
  },
  {
   "cell_type": "markdown",
   "metadata": {},
   "source": [
    "Here we define a criteria function that anwser `True` only when the given row invovles a women at the rank of Professor. Based on it, we count the number of female Professor in the dataframe."
   ]
  },
  {
   "cell_type": "code",
   "execution_count": 11,
   "metadata": {},
   "outputs": [
    {
     "data": {
      "text/plain": [
       "18"
      ]
     },
     "metadata": {},
     "output_type": "display_data"
    }
   ],
   "source": [
    "-- A Top-level function will be designed in the future to give this kind of call mpre abstraction.\n",
    "femaleProf = runcurry' criteria . select @'[Rank, Sex] Proxy\n",
    "  where\n",
    "    criteria \"Prof\" \"Female\" = True\n",
    "    criteria _ _ = False\n",
    "\n",
    "fp_df = filterFrame femaleProf salaries\n",
    "length fp_df"
   ]
  },
  {
   "cell_type": "markdown",
   "metadata": {},
   "source": [
    "## Chart plotting"
   ]
  },
  {
   "cell_type": "markdown",
   "metadata": {},
   "source": [
    "This is a simple example of chart plotting using some groupBy fonctionnalities provided by `DataGlue.Frames.GroupBy`."
   ]
  },
  {
   "cell_type": "code",
   "execution_count": 12,
   "metadata": {},
   "outputs": [
    {
     "data": {
      "image/png": "[encoded data removed]"
     },
     "metadata": {},
     "output_type": "display_data"
    }
   ],
   "source": [
    "import qualified DataGlue.Frames.GroupBy as G\n",
    "import Data.Text (unpack)\n",
    "import DataGlue.Chart\n",
    "\n",
    "sums = G.groupByOp discipline salaries (G.sum) [yrsSincePhd, yrsService]\n",
    "alabels = [\"yrsSincePhd\",\"yrsService\"]\n",
    "\n",
    "bars2 = plot_bars_titles .~ (unpack <$> uniques discipline salaries)\n",
    "    $ plot_bars_values .~ addIndexes sums\n",
    "    $ def\n",
    "    \n",
    "toRenderable\n",
    "    $ layout_title .~ \"Sum of Knowledge by discipline\"\n",
    "    $ layout_x_axis . laxis_generate .~ autoIndexAxis alabels\n",
    "    $ layout_plots .~ [ plotBars bars2 ]\n",
    "    $ def"
   ]
  }
 ],
 "metadata": {
  "kernelspec": {
   "display_name": "Haskell",
   "language": "haskell",
   "name": "haskell"
  },
  "language_info": {
   "codemirror_mode": "ihaskell",
   "file_extension": ".hs",
   "name": "haskell",
   "pygments_lexer": "Haskell",
   "version": "8.2.2"
  }
 },
 "nbformat": 4,
 "nbformat_minor": 2
}
