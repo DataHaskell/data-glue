{
 "cells": [
  {
   "cell_type": "code",
   "execution_count": 1,
   "metadata": {},
   "outputs": [],
   "source": [
    ":ext DataKinds FlexibleContexts TemplateHaskell TypeApplications"
   ]
  },
  {
   "cell_type": "code",
   "execution_count": 2,
   "metadata": {},
   "outputs": [],
   "source": [
    "import DataGlue.Frames\n",
    "import Frames.CSV\n",
    "\n",
    "-- Since the used dataset as no header, let's define the column names.\n",
    "datasource = \"../datasets/iris.csv\"\n",
    "tableTypes' (rowGen datasource)\n",
    "            { rowTypeName = \"IrisRow\"\n",
    "            , columnNames = [ \"Petal Length\", \"Petal Width\", \"Sepal Length\" , \"Sepal Width\", \"Iris Class\" ]}\n",
    "\n",
    "loadRows :: IO (Frame IrisRow)\n",
    "loadRows = inCoreAoS (readTable datasource)\n",
    "\n",
    "iris <- loadRows"
   ]
  },
  {
   "cell_type": "code",
   "execution_count": 3,
   "metadata": {},
   "outputs": [
    {
     "data": {
      "text/plain": [
       "149x5 dataframe.\n",
       "  column \"Petal Length\": Double\n",
       "  column \"Petal Width\": Double\n",
       "  column \"Sepal Length\": Double\n",
       "  column \"Sepal Width\": Double\n",
       "  column \"Iris Class\": Text"
      ]
     },
     "metadata": {},
     "output_type": "display_data"
    }
   ],
   "source": [
    "-- Show dataframe structure.\n",
    "describe iris"
   ]
  },
  {
   "cell_type": "code",
   "execution_count": 4,
   "metadata": {},
   "outputs": [
    {
     "data": {
      "text/html": [
       "<style>/* Styles used for the Hoogle display in the pager */\n",
       ".hoogle-doc {\n",
       "display: block;\n",
       "padding-bottom: 1.3em;\n",
       "padding-left: 0.4em;\n",
       "}\n",
       ".hoogle-code {\n",
       "display: block;\n",
       "font-family: monospace;\n",
       "white-space: pre;\n",
       "}\n",
       ".hoogle-text {\n",
       "display: block;\n",
       "}\n",
       ".hoogle-name {\n",
       "color: green;\n",
       "font-weight: bold;\n",
       "}\n",
       ".hoogle-head {\n",
       "font-weight: bold;\n",
       "}\n",
       ".hoogle-sub {\n",
       "display: block;\n",
       "margin-left: 0.4em;\n",
       "}\n",
       ".hoogle-package {\n",
       "font-weight: bold;\n",
       "font-style: italic;\n",
       "}\n",
       ".hoogle-module {\n",
       "font-weight: bold;\n",
       "}\n",
       ".hoogle-class {\n",
       "font-weight: bold;\n",
       "}\n",
       ".get-type {\n",
       "color: green;\n",
       "font-weight: bold;\n",
       "font-family: monospace;\n",
       "display: block;\n",
       "white-space: pre-wrap;\n",
       "}\n",
       ".show-type {\n",
       "color: green;\n",
       "font-weight: bold;\n",
       "font-family: monospace;\n",
       "margin-left: 1em;\n",
       "}\n",
       ".mono {\n",
       "font-family: monospace;\n",
       "display: block;\n",
       "}\n",
       ".err-msg {\n",
       "color: red;\n",
       "font-style: italic;\n",
       "font-family: monospace;\n",
       "white-space: pre;\n",
       "display: block;\n",
       "}\n",
       "#unshowable {\n",
       "color: red;\n",
       "font-weight: bold;\n",
       "}\n",
       ".err-msg.in.collapse {\n",
       "padding-top: 0.7em;\n",
       "}\n",
       ".highlight-code {\n",
       "white-space: pre;\n",
       "font-family: monospace;\n",
       "}\n",
       ".suggestion-warning { \n",
       "font-weight: bold;\n",
       "color: rgb(200, 130, 0);\n",
       "}\n",
       ".suggestion-error { \n",
       "font-weight: bold;\n",
       "color: red;\n",
       "}\n",
       ".suggestion-name {\n",
       "font-weight: bold;\n",
       "}\n",
       "</style><table><tr><th>Petal Length</th><th>Petal Width</th><th>Sepal Length</th><th>Sepal Width</th><th>Iris Class</th></tr><tr><td>4.9</td><td>3.0</td><td>1.4</td><td>0.2</td><td>\"Iris-setosa\"</td></tr><tr><td>4.7</td><td>3.2</td><td>1.3</td><td>0.2</td><td>\"Iris-setosa\"</td></tr><tr><td>4.6</td><td>3.1</td><td>1.5</td><td>0.2</td><td>\"Iris-setosa\"</td></tr><tr><td>5.0</td><td>3.6</td><td>1.4</td><td>0.2</td><td>\"Iris-setosa\"</td></tr><tr><td>5.4</td><td>3.9</td><td>1.7</td><td>0.4</td><td>\"Iris-setosa\"</td></tr><tr><td>4.6</td><td>3.4</td><td>1.4</td><td>0.3</td><td>\"Iris-setosa\"</td></tr><tr><td>5.0</td><td>3.4</td><td>1.5</td><td>0.2</td><td>\"Iris-setosa\"</td></tr><tr><td>4.4</td><td>2.9</td><td>1.4</td><td>0.2</td><td>\"Iris-setosa\"</td></tr><tr><td>4.9</td><td>3.1</td><td>1.5</td><td>0.1</td><td>\"Iris-setosa\"</td></tr><tr><td>5.4</td><td>3.7</td><td>1.5</td><td>0.2</td><td>\"Iris-setosa\"</td></tr><tr><td style='text-align:center' colspan=5>. . .</td></tr><tr><td>6.7</td><td>3.1</td><td>5.6</td><td>2.4</td><td>\"Iris-virginica\"</td></tr><tr><td>6.9</td><td>3.1</td><td>5.1</td><td>2.3</td><td>\"Iris-virginica\"</td></tr><tr><td>5.8</td><td>2.7</td><td>5.1</td><td>1.9</td><td>\"Iris-virginica\"</td></tr><tr><td>6.8</td><td>3.2</td><td>5.9</td><td>2.3</td><td>\"Iris-virginica\"</td></tr><tr><td>6.7</td><td>3.3</td><td>5.7</td><td>2.5</td><td>\"Iris-virginica\"</td></tr><tr><td>6.7</td><td>3.0</td><td>5.2</td><td>2.3</td><td>\"Iris-virginica\"</td></tr><tr><td>6.3</td><td>2.5</td><td>5.0</td><td>1.9</td><td>\"Iris-virginica\"</td></tr><tr><td>6.5</td><td>3.0</td><td>5.2</td><td>2.0</td><td>\"Iris-virginica\"</td></tr><tr><td>6.2</td><td>3.4</td><td>5.4</td><td>2.3</td><td>\"Iris-virginica\"</td></tr><tr><td>5.9</td><td>3.0</td><td>5.1</td><td>1.8</td><td>\"Iris-virginica\"</td></tr></table>"
      ]
     },
     "metadata": {},
     "output_type": "display_data"
    }
   ],
   "source": [
    "-- Show dataframe content.\n",
    "iris"
   ]
  },
  {
   "cell_type": "code",
   "execution_count": 5,
   "metadata": {},
   "outputs": [
    {
     "data": {
      "text/plain": [
       "119"
      ]
     },
     "metadata": {},
     "output_type": "display_data"
    },
    {
     "data": {
      "text/plain": [
       "30"
      ]
     },
     "metadata": {},
     "output_type": "display_data"
    }
   ],
   "source": [
    "(train, test) = splitTrainTestFrame @'[IrisClass] 0 iris 0.8\n",
    "length train\n",
    "length test"
   ]
  },
  {
   "cell_type": "code",
   "execution_count": 6,
   "metadata": {},
   "outputs": [
    {
     "data": {
      "image/png": "[encoded data removed]"
     },
     "metadata": {},
     "output_type": "display_data"
    }
   ],
   "source": [
    "import Control.Lens\n",
    "import DataGlue.Chart\n",
    "import qualified DataGlue.Frames.GroupBy as G\n",
    "import Data.Text (unpack)\n",
    "\n",
    "avgs = G.groupByOp irisClass iris G.mean [petalLength, petalWidth, sepalLength, sepalWidth]\n",
    "\n",
    "alabels = [\"Petal length\", \"Petal width\", \"Sepal length\", \"Sepal width\"]\n",
    "\n",
    "bars2 = plot_bars_titles .~ (unpack <$> uniques irisClass iris)\n",
    "    $ plot_bars_values .~ addIndexes avgs\n",
    "    $ def\n",
    "\n",
    "mkstyle c = (solidFillStyle c, Just (solidLine 1.0 $ opaque black))\n",
    "\n",
    "toRenderable\n",
    "    $ layout_title .~ \"Averages Iris values\"\n",
    "    $ layout_x_axis . laxis_generate .~ autoIndexAxis alabels\n",
    "    $ layout_plots .~ [ plotBars bars2 ]\n",
    "    $ def"
   ]
  }
 ],
 "metadata": {
  "kernelspec": {
   "display_name": "Haskell",
   "language": "haskell",
   "name": "haskell"
  },
  "language_info": {
   "codemirror_mode": "ihaskell",
   "file_extension": ".hs",
   "name": "haskell",
   "pygments_lexer": "Haskell",
   "version": "8.2.2"
  }
 },
 "nbformat": 4,
 "nbformat_minor": 2
}
