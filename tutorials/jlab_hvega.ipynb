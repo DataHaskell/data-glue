{
 "cells": [
  {
   "cell_type": "code",
   "execution_count": 1,
   "metadata": {},
   "outputs": [
    {
     "data": {
      "text/plain": [
       "{\n",
       "    \"mark\": \"circle\",\n",
       "    \"data\": {\n",
       "        \"url\": \"https://vega.github.io/vega-datasets/data/cars.json\"\n",
       "    },\n",
       "    \"$schema\": \"https://vega.github.io/schema/vega-lite/v2.json\",\n",
       "    \"encoding\": {\n",
       "        \"color\": {\n",
       "            \"field\": \"Origin\",\n",
       "            \"type\": \"nominal\"\n",
       "        },\n",
       "        \"x\": {\n",
       "            \"field\": \"Horsepower\",\n",
       "            \"type\": \"quantitative\"\n",
       "        },\n",
       "        \"y\": {\n",
       "            \"field\": \"Miles_per_Gallon\",\n",
       "            \"type\": \"quantitative\"\n",
       "        }\n",
       "    },\n",
       "    \"background\": \"rgba(0, 0, 0, 0.05)\"\n",
       "}"
      ]
     },
     "metadata": {},
     "output_type": "display_data"
    }
   ],
   "source": [
    "import qualified Graphics.Vega.VegaLite as V\n",
    "import qualified Data.Text as T\n",
    "import qualified Data.Text.Lazy as LT\n",
    "import Data.Aeson.Text (encodeToLazyText)\n",
    "import Data.String (fromString)\n",
    "\n",
    "import qualified IHaskell.Display as D\n",
    "\n",
    "let plot = V.toVegaLite [ bkg, cars, V.mark V.Circle [], enc [] ]\n",
    "    cars =  V.dataFromUrl (fromString \"https://vega.github.io/vega-datasets/data/cars.json\") []\n",
    "\n",
    "    enc = V.encoding\n",
    "            . V.position V.X [ V.PName (fromString \"Horsepower\"), V.PmType V.Quantitative ]\n",
    "            . V.position V.Y [ V.PName (fromString \"Miles_per_Gallon\"), V.PmType V.Quantitative ]\n",
    "            . V.color [ V.MName (fromString \"Origin\"), V.MmType V.Nominal ]\n",
    "\n",
    "    bkg = V.background (fromString \"rgba(0, 0, 0, 0.05)\")\n",
    "  \n",
    "V.fromVL plot"
   ]
  },
  {
   "cell_type": "code",
   "execution_count": 2,
   "metadata": {},
   "outputs": [
    {
     "data": {
      "application/json": {
       "$schema": "https://vega.github.io/schema/vega-lite/v2.json",
       "background": "rgba(0, 0, 0, 0.05)",
       "data": {
        "url": "https://vega.github.io/vega-datasets/data/cars.json"
       },
       "encoding": {
        "color": {
         "field": "Origin",
         "type": "nominal"
        },
        "x": {
         "field": "Horsepower",
         "type": "quantitative"
        },
        "y": {
         "field": "Miles_per_Gallon",
         "type": "quantitative"
        }
       },
       "mark": "circle"
      }
     },
     "metadata": {},
     "output_type": "display_data"
    }
   ],
   "source": [
    "let json_string = LT.unpack (encodeToLazyText (V.fromVL plot))\n",
    "D.Display [D.json json_string]"
   ]
  },
  {
   "cell_type": "code",
   "execution_count": 3,
   "metadata": {},
   "outputs": [
    {
     "data": {
      "application/vnd.vegalite.v2+json": {
       "$schema": "https://vega.github.io/schema/vega-lite/v2.json",
       "background": "rgba(0, 0, 0, 0.05)",
       "data": {
        "format": {
         "type": "json"
        },
        "url": "https://vega.github.io/vega-datasets/data/cars.json"
       },
       "encoding": {
        "color": {
         "field": "Origin",
         "type": "nominal"
        },
        "x": {
         "field": "Horsepower",
         "type": "quantitative"
        },
        "y": {
         "field": "Miles_per_Gallon",
         "type": "quantitative"
        }
       },
       "mark": "circle"
      },
      "image/png": "[encoded data removed]"
     },
     "metadata": {},
     "output_type": "display_data"
    }
   ],
   "source": [
    "D.Display [D.vegalite json_string]"
   ]
  },
  {
   "cell_type": "code",
   "execution_count": 4,
   "metadata": {},
   "outputs": [
    {
     "data": {
      "text/markdown": [
       "## headline ##\n",
       "this is an attempt to write markdown"
      ]
     },
     "metadata": {},
     "output_type": "display_data"
    }
   ],
   "source": [
    "let markdown = \"## headline ##\\nthis is an attempt to write markdown\"\n",
    "D.Display [D.markdown markdown]"
   ]
  }
 ],
 "metadata": {
  "kernelspec": {
   "display_name": "Haskell",
   "language": "haskell",
   "name": "haskell"
  },
  "language_info": {
   "codemirror_mode": "ihaskell",
   "file_extension": ".hs",
   "name": "haskell",
   "pygments_lexer": "Haskell",
   "version": "8.2.2"
  }
 },
 "nbformat": 4,
 "nbformat_minor": 2
}
